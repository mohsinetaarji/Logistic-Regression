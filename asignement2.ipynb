{
 "cells": [
  {
   "cell_type": "code",
   "execution_count": 28,
   "metadata": {},
   "outputs": [],
   "source": [
    "import pandas as pd\n",
    "import numpy as np\n",
    "import matplotlib.pyplot as plt\n",
    "import seaborn as sns"
   ]
  },
  {
   "cell_type": "code",
   "execution_count": 29,
   "metadata": {},
   "outputs": [],
   "source": [
    "data = pd.read_csv('data.csv')"
   ]
  },
  {
   "cell_type": "code",
   "execution_count": 30,
   "metadata": {
    "scrolled": true
   },
   "outputs": [
    {
     "data": {
      "text/html": [
       "<div>\n",
       "<style scoped>\n",
       "    .dataframe tbody tr th:only-of-type {\n",
       "        vertical-align: middle;\n",
       "    }\n",
       "\n",
       "    .dataframe tbody tr th {\n",
       "        vertical-align: top;\n",
       "    }\n",
       "\n",
       "    .dataframe thead th {\n",
       "        text-align: right;\n",
       "    }\n",
       "</style>\n",
       "<table border=\"1\" class=\"dataframe\">\n",
       "  <thead>\n",
       "    <tr style=\"text-align: right;\">\n",
       "      <th></th>\n",
       "      <th>x1</th>\n",
       "      <th>x2</th>\n",
       "      <th>x3</th>\n",
       "      <th>x4</th>\n",
       "      <th>y</th>\n",
       "    </tr>\n",
       "  </thead>\n",
       "  <tbody>\n",
       "    <tr>\n",
       "      <th>0</th>\n",
       "      <td>-3</td>\n",
       "      <td>-2</td>\n",
       "      <td>-3</td>\n",
       "      <td>-2</td>\n",
       "      <td>1</td>\n",
       "    </tr>\n",
       "    <tr>\n",
       "      <th>1</th>\n",
       "      <td>-4</td>\n",
       "      <td>-3</td>\n",
       "      <td>-2</td>\n",
       "      <td>0</td>\n",
       "      <td>1</td>\n",
       "    </tr>\n",
       "    <tr>\n",
       "      <th>2</th>\n",
       "      <td>3</td>\n",
       "      <td>-5</td>\n",
       "      <td>-5</td>\n",
       "      <td>2</td>\n",
       "      <td>2</td>\n",
       "    </tr>\n",
       "    <tr>\n",
       "      <th>3</th>\n",
       "      <td>-2</td>\n",
       "      <td>3</td>\n",
       "      <td>-2</td>\n",
       "      <td>-4</td>\n",
       "      <td>1</td>\n",
       "    </tr>\n",
       "    <tr>\n",
       "      <th>4</th>\n",
       "      <td>-4</td>\n",
       "      <td>-1</td>\n",
       "      <td>1</td>\n",
       "      <td>4</td>\n",
       "      <td>0</td>\n",
       "    </tr>\n",
       "    <tr>\n",
       "      <th>5</th>\n",
       "      <td>2</td>\n",
       "      <td>-5</td>\n",
       "      <td>-5</td>\n",
       "      <td>-5</td>\n",
       "      <td>2</td>\n",
       "    </tr>\n",
       "    <tr>\n",
       "      <th>6</th>\n",
       "      <td>0</td>\n",
       "      <td>4</td>\n",
       "      <td>0</td>\n",
       "      <td>0</td>\n",
       "      <td>1</td>\n",
       "    </tr>\n",
       "    <tr>\n",
       "      <th>7</th>\n",
       "      <td>0</td>\n",
       "      <td>-4</td>\n",
       "      <td>-2</td>\n",
       "      <td>-1</td>\n",
       "      <td>2</td>\n",
       "    </tr>\n",
       "    <tr>\n",
       "      <th>8</th>\n",
       "      <td>4</td>\n",
       "      <td>1</td>\n",
       "      <td>-2</td>\n",
       "      <td>-4</td>\n",
       "      <td>2</td>\n",
       "    </tr>\n",
       "    <tr>\n",
       "      <th>9</th>\n",
       "      <td>2</td>\n",
       "      <td>-5</td>\n",
       "      <td>-1</td>\n",
       "      <td>0</td>\n",
       "      <td>2</td>\n",
       "    </tr>\n",
       "  </tbody>\n",
       "</table>\n",
       "</div>"
      ],
      "text/plain": [
       "   x1  x2  x3  x4  y\n",
       "0  -3  -2  -3  -2  1\n",
       "1  -4  -3  -2   0  1\n",
       "2   3  -5  -5   2  2\n",
       "3  -2   3  -2  -4  1\n",
       "4  -4  -1   1   4  0\n",
       "5   2  -5  -5  -5  2\n",
       "6   0   4   0   0  1\n",
       "7   0  -4  -2  -1  2\n",
       "8   4   1  -2  -4  2\n",
       "9   2  -5  -1   0  2"
      ]
     },
     "execution_count": 30,
     "metadata": {},
     "output_type": "execute_result"
    }
   ],
   "source": [
    "data.head(10)"
   ]
  },
  {
   "cell_type": "code",
   "execution_count": 31,
   "metadata": {},
   "outputs": [
    {
     "name": "stdout",
     "output_type": "stream",
     "text": [
      "<class 'pandas.core.frame.DataFrame'>\n",
      "RangeIndex: 1578 entries, 0 to 1577\n",
      "Data columns (total 5 columns):\n",
      "x1    1578 non-null int64\n",
      "x2    1578 non-null int64\n",
      "x3    1578 non-null int64\n",
      "x4    1578 non-null int64\n",
      "y     1578 non-null int64\n",
      "dtypes: int64(5)\n",
      "memory usage: 61.7 KB\n"
     ]
    }
   ],
   "source": [
    "data.info()\n"
   ]
  },
  {
   "cell_type": "code",
   "execution_count": 32,
   "metadata": {},
   "outputs": [
    {
     "data": {
      "text/html": [
       "<div>\n",
       "<style scoped>\n",
       "    .dataframe tbody tr th:only-of-type {\n",
       "        vertical-align: middle;\n",
       "    }\n",
       "\n",
       "    .dataframe tbody tr th {\n",
       "        vertical-align: top;\n",
       "    }\n",
       "\n",
       "    .dataframe thead th {\n",
       "        text-align: right;\n",
       "    }\n",
       "</style>\n",
       "<table border=\"1\" class=\"dataframe\">\n",
       "  <thead>\n",
       "    <tr style=\"text-align: right;\">\n",
       "      <th></th>\n",
       "      <th>x1</th>\n",
       "      <th>x2</th>\n",
       "      <th>x3</th>\n",
       "      <th>x4</th>\n",
       "      <th>y</th>\n",
       "    </tr>\n",
       "  </thead>\n",
       "  <tbody>\n",
       "    <tr>\n",
       "      <th>count</th>\n",
       "      <td>1578.000000</td>\n",
       "      <td>1578.000000</td>\n",
       "      <td>1578.000000</td>\n",
       "      <td>1578.000000</td>\n",
       "      <td>1578.000000</td>\n",
       "    </tr>\n",
       "    <tr>\n",
       "      <th>mean</th>\n",
       "      <td>-0.637516</td>\n",
       "      <td>-0.394804</td>\n",
       "      <td>-1.198352</td>\n",
       "      <td>-0.004436</td>\n",
       "      <td>0.962611</td>\n",
       "    </tr>\n",
       "    <tr>\n",
       "      <th>std</th>\n",
       "      <td>3.154112</td>\n",
       "      <td>2.922269</td>\n",
       "      <td>1.944199</td>\n",
       "      <td>2.970257</td>\n",
       "      <td>0.799807</td>\n",
       "    </tr>\n",
       "    <tr>\n",
       "      <th>min</th>\n",
       "      <td>-5.000000</td>\n",
       "      <td>-5.000000</td>\n",
       "      <td>-5.000000</td>\n",
       "      <td>-5.000000</td>\n",
       "      <td>0.000000</td>\n",
       "    </tr>\n",
       "    <tr>\n",
       "      <th>25%</th>\n",
       "      <td>-4.000000</td>\n",
       "      <td>-3.000000</td>\n",
       "      <td>-3.000000</td>\n",
       "      <td>-3.000000</td>\n",
       "      <td>0.000000</td>\n",
       "    </tr>\n",
       "    <tr>\n",
       "      <th>50%</th>\n",
       "      <td>-1.000000</td>\n",
       "      <td>0.000000</td>\n",
       "      <td>-1.000000</td>\n",
       "      <td>0.000000</td>\n",
       "      <td>1.000000</td>\n",
       "    </tr>\n",
       "    <tr>\n",
       "      <th>75%</th>\n",
       "      <td>2.000000</td>\n",
       "      <td>2.000000</td>\n",
       "      <td>0.000000</td>\n",
       "      <td>3.000000</td>\n",
       "      <td>2.000000</td>\n",
       "    </tr>\n",
       "    <tr>\n",
       "      <th>max</th>\n",
       "      <td>4.000000</td>\n",
       "      <td>4.000000</td>\n",
       "      <td>3.000000</td>\n",
       "      <td>4.000000</td>\n",
       "      <td>2.000000</td>\n",
       "    </tr>\n",
       "  </tbody>\n",
       "</table>\n",
       "</div>"
      ],
      "text/plain": [
       "                x1           x2           x3           x4            y\n",
       "count  1578.000000  1578.000000  1578.000000  1578.000000  1578.000000\n",
       "mean     -0.637516    -0.394804    -1.198352    -0.004436     0.962611\n",
       "std       3.154112     2.922269     1.944199     2.970257     0.799807\n",
       "min      -5.000000    -5.000000    -5.000000    -5.000000     0.000000\n",
       "25%      -4.000000    -3.000000    -3.000000    -3.000000     0.000000\n",
       "50%      -1.000000     0.000000    -1.000000     0.000000     1.000000\n",
       "75%       2.000000     2.000000     0.000000     3.000000     2.000000\n",
       "max       4.000000     4.000000     3.000000     4.000000     2.000000"
      ]
     },
     "execution_count": 32,
     "metadata": {},
     "output_type": "execute_result"
    }
   ],
   "source": [
    "data.describe()"
   ]
  },
  {
   "cell_type": "code",
   "execution_count": 33,
   "metadata": {},
   "outputs": [
    {
     "data": {
      "text/plain": [
       "0      -3\n",
       "1      -4\n",
       "2       3\n",
       "3      -2\n",
       "4      -4\n",
       "5       2\n",
       "6       0\n",
       "7       0\n",
       "8       4\n",
       "9       2\n",
       "10     -5\n",
       "11      1\n",
       "12     -5\n",
       "13     -1\n",
       "14     -3\n",
       "15      3\n",
       "16     -5\n",
       "17      2\n",
       "18     -5\n",
       "19     -3\n",
       "20      2\n",
       "21     -1\n",
       "22     -5\n",
       "23     -4\n",
       "24     -5\n",
       "25      4\n",
       "26      0\n",
       "27     -3\n",
       "28      1\n",
       "29     -5\n",
       "       ..\n",
       "1548    1\n",
       "1549   -3\n",
       "1550   -5\n",
       "1551   -5\n",
       "1552    4\n",
       "1553   -3\n",
       "1554   -3\n",
       "1555   -1\n",
       "1556   -1\n",
       "1557    4\n",
       "1558    4\n",
       "1559   -4\n",
       "1560    3\n",
       "1561   -2\n",
       "1562   -5\n",
       "1563    2\n",
       "1564    0\n",
       "1565    3\n",
       "1566    0\n",
       "1567    3\n",
       "1568    2\n",
       "1569   -5\n",
       "1570    0\n",
       "1571   -4\n",
       "1572   -2\n",
       "1573    1\n",
       "1574    4\n",
       "1575    1\n",
       "1576   -2\n",
       "1577    0\n",
       "Name: x1, Length: 1578, dtype: int64"
      ]
     },
     "execution_count": 33,
     "metadata": {},
     "output_type": "execute_result"
    }
   ],
   "source": [
    "data.x1"
   ]
  },
  {
   "cell_type": "code",
   "execution_count": 34,
   "metadata": {},
   "outputs": [],
   "source": [
    "x = data[['x1','x2','x3','x4']]\n",
    "y = data['y']\n",
    "\n"
   ]
  },
  {
   "cell_type": "code",
   "execution_count": 35,
   "metadata": {},
   "outputs": [],
   "source": [
    "from sklearn.model_selection import train_test_split"
   ]
  },
  {
   "cell_type": "code",
   "execution_count": 36,
   "metadata": {},
   "outputs": [],
   "source": [
    "x_train, x_test, y_train, y_test = train_test_split(x, y, test_size=0.2, random_state=42)"
   ]
  },
  {
   "cell_type": "code",
   "execution_count": 37,
   "metadata": {},
   "outputs": [],
   "source": [
    "from sklearn.linear_model import LogisticRegression    \n",
    "logreg = LogisticRegression() \n",
    "\n",
    "logreg.fit(x_train,y_train)\n",
    "\n",
    "y_pred_class=logreg.predict(x_test)   \n",
    "\n",
    " "
   ]
  },
  {
   "cell_type": "code",
   "execution_count": 38,
   "metadata": {},
   "outputs": [
    {
     "name": "stdout",
     "output_type": "stream",
     "text": [
      "Accuracy: 0.9778481012658228\n"
     ]
    }
   ],
   "source": [
    "from sklearn.metrics import accuracy_score, f1_score, precision_score,\\\n",
    "recall_score, classification_report, confusion_matrix\n",
    "\n",
    "print('Accuracy:', accuracy_score(y_test, y_pred_class))  "
   ]
  },
  {
   "cell_type": "code",
   "execution_count": 39,
   "metadata": {},
   "outputs": [
    {
     "name": "stdout",
     "output_type": "stream",
     "text": [
      "Intercept: [-4.19546324 -3.21251524 -4.69371361]\n",
      "Coefficient [[ 0.92052479 -0.71093853  2.02823359  2.98103043]\n",
      " [-0.89713157  0.55509136 -0.770296    0.14112017]\n",
      " [ 1.39458468 -0.43864047 -0.65337787 -1.78741335]]\n"
     ]
    }
   ],
   "source": [
    "print(\"Intercept:\", logreg.intercept_)\n",
    "print('Coefficient', logreg.coef_)"
   ]
  },
  {
   "cell_type": "code",
   "execution_count": 40,
   "metadata": {},
   "outputs": [
    {
     "name": "stdout",
     "output_type": "stream",
     "text": [
      "Confusion Matrix:\n",
      " [[ 98   5   0]\n",
      " [  2 130   0]\n",
      " [  0   0  81]]\n"
     ]
    }
   ],
   "source": [
    "print('Confusion Matrix:\\n', confusion_matrix(y_test, y_pred_class))\n"
   ]
  },
  {
   "cell_type": "code",
   "execution_count": 43,
   "metadata": {},
   "outputs": [
    {
     "name": "stdout",
     "output_type": "stream",
     "text": [
      "Score:\n",
      " 0.9778481012658228\n"
     ]
    }
   ],
   "source": [
    "score = logreg.score(x_test, y_test)\n",
    "print('Score:\\n',score)"
   ]
  },
  {
   "cell_type": "code",
   "execution_count": 44,
   "metadata": {},
   "outputs": [
    {
     "data": {
      "image/png": "[encoded data removed]",
      "text/plain": [
       "<Figure size 216x216 with 2 Axes>"
      ]
     },
     "metadata": {},
     "output_type": "display_data"
    }
   ],
   "source": [
    "cm = metrics.confusion_matrix(y_test, y_pred_class)\n",
    "import seaborn as sns\n",
    "plt.figure(figsize=(3,3))\n",
    "sns.heatmap(cm, annot=True, fmt=\".3f\", linewidths=.5, square = True, cmap = 'Blues_r');\n",
    "plt.ylabel('Actual label');\n",
    "plt.xlabel('Predicted label');\n",
    "all_sample_title = 'Accuracy Score: {0}'.format(score)\n",
    "\n",
    "plt.title(all_sample_title, size = 15);\n",
    "plt.show()"
   ]
  },
  {
   "cell_type": "code",
   "execution_count": 45,
   "metadata": {},
   "outputs": [
    {
     "name": "stdout",
     "output_type": "stream",
     "text": [
      "Classification Report:\n",
      "              precision    recall  f1-score   support\n",
      "\n",
      "          0       0.98      0.95      0.97       103\n",
      "          1       0.96      0.98      0.97       132\n",
      "          2       1.00      1.00      1.00        81\n",
      "\n",
      "avg / total       0.98      0.98      0.98       316\n",
      "\n"
     ]
    }
   ],
   "source": [
    "print('Classification Report:\\n', classification_report(y_test, y_pred_class))\n",
    "\n",
    "\n"
   ]
  },
  {
   "cell_type": "code",
   "execution_count": 46,
   "metadata": {},
   "outputs": [
    {
     "data": {
      "text/plain": [
       "Text(0,0.5,'Predicted Y')"
      ]
     },
     "execution_count": 46,
     "metadata": {},
     "output_type": "execute_result"
    },
    {
     "data": {
      "image/png": "[encoded data removed]",
      "text/plain": [
       "<Figure size 432x288 with 1 Axes>"
      ]
     },
     "metadata": {},
     "output_type": "display_data"
    }
   ],
   "source": [
    "plt.scatter(y_test, y_pred_class)\n",
    "plt.xlabel('Y')\n",
    "plt.ylabel('Predicted Y')"
   ]
  },
  {
   "cell_type": "markdown",
   "metadata": {},
   "source": [
    "OneVsRestClassifier"
   ]
  },
  {
   "cell_type": "code",
   "execution_count": 47,
   "metadata": {},
   "outputs": [],
   "source": [
    "from sklearn.multiclass import OneVsRestClassifier\n",
    "from sklearn.svm import LinearSVC\n"
   ]
  },
  {
   "cell_type": "code",
   "execution_count": 48,
   "metadata": {},
   "outputs": [],
   "source": [
    "ovoc = OneVsRestClassifier(LinearSVC(random_state=0))\n",
    "ovoc.fit(x_train, y_train)\n",
    "y_pred_class1=ovoc.predict(x_test) \n"
   ]
  },
  {
   "cell_type": "code",
   "execution_count": 49,
   "metadata": {},
   "outputs": [
    {
     "name": "stdout",
     "output_type": "stream",
     "text": [
      "Accuracy: 0.9873417721518988\n"
     ]
    }
   ],
   "source": [
    "from sklearn import metrics \n",
    "print('Accuracy:', accuracy_score(y_test, y_pred_class1))  "
   ]
  },
  {
   "cell_type": "code",
   "execution_count": 50,
   "metadata": {},
   "outputs": [
    {
     "data": {
      "text/plain": [
       "Text(0,0.5,'Predicted Y')"
      ]
     },
     "execution_count": 50,
     "metadata": {},
     "output_type": "execute_result"
    },
    {
     "data": {
      "image/png": "[encoded data removed]",
      "text/plain": [
       "<Figure size 432x288 with 1 Axes>"
      ]
     },
     "metadata": {},
     "output_type": "display_data"
    }
   ],
   "source": [
    "plt.scatter(y_test, y_pred_class1)\n",
    "plt.xlabel('Y')\n",
    "plt.ylabel('Predicted Y')"
   ]
  },
  {
   "cell_type": "code",
   "execution_count": 51,
   "metadata": {},
   "outputs": [
    {
     "name": "stdout",
     "output_type": "stream",
     "text": [
      "Intercept: [[-2.27880168]\n",
      " [-1.13195862]\n",
      " [-2.10271464]]\n",
      "Coefficient [[ 0.44339412 -0.35142192  0.95773837  1.5285465 ]\n",
      " [-0.30981776  0.19245683 -0.28162756  0.06094908]\n",
      " [ 0.61573866 -0.17332821 -0.31848434 -0.74711681]]\n"
     ]
    }
   ],
   "source": [
    "print(\"Intercept:\", ovoc.intercept_)\n",
    "print('Coefficient', ovoc.coef_)"
   ]
  },
  {
   "cell_type": "code",
   "execution_count": 52,
   "metadata": {},
   "outputs": [
    {
     "name": "stdout",
     "output_type": "stream",
     "text": [
      "Confusion Matrix:\n",
      " [[ 99   4   0]\n",
      " [  0 132   0]\n",
      " [  0   0  81]]\n"
     ]
    }
   ],
   "source": [
    "print('Confusion Matrix:\\n', confusion_matrix(y_test, y_pred_class1))"
   ]
  },
  {
   "cell_type": "code",
   "execution_count": 61,
   "metadata": {},
   "outputs": [
    {
     "name": "stdout",
     "output_type": "stream",
     "text": [
      "Accuracy: 0.9873417721518988\n",
      "Classification Report:\n",
      "              precision    recall  f1-score   support\n",
      "\n",
      "          0       1.00      0.96      0.98       103\n",
      "          1       0.97      1.00      0.99       132\n",
      "          2       1.00      1.00      1.00        81\n",
      "\n",
      "avg / total       0.99      0.99      0.99       316\n",
      "\n",
      "Confusion Matrix:\n",
      " [[ 99   4   0]\n",
      " [  0 132   0]\n",
      " [  0   0  81]]\n",
      "Score:\n",
      " 0.9873417721518988\n"
     ]
    }
   ],
   "source": [
    "from sklearn.metrics import accuracy_score, f1_score, precision_score,\\\n",
    "recall_score, classification_report, confusion_matrix\n",
    "\n",
    "print('Accuracy:', accuracy_score(y_test, y_pred_class1))\n",
    "print('Classification Report:\\n', classification_report(y_test, y_pred_class1))\n",
    "print('Confusion Matrix:\\n', confusion_matrix(y_test, y_pred_class1))\n",
    "\n",
    "score = ovoc.score(x_test, y_test)\n",
    "print('Score:\\n',score) \n",
    "\n",
    "\n"
   ]
  },
  {
   "cell_type": "code",
   "execution_count": 62,
   "metadata": {},
   "outputs": [],
   "source": [
    "def sigmoid(x):\n",
    "    return 1/(1+(np.exp(-x)))"
   ]
  },
  {
   "cell_type": "code",
   "execution_count": 63,
   "metadata": {},
   "outputs": [],
   "source": [
    "def cost(X_b, y_b, W, m):\n",
    "    return  -(1./m) * np.sum(\n",
    "        (np.multiply(y_b, np.log(sigmoid(np.dot(W,X_b))))) +\n",
    "        (np.multiply((1-y_b),np.log(1-sigmoid(np.dot(W,X_b))))))\n"
   ]
  },
  {
   "cell_type": "code",
   "execution_count": 64,
   "metadata": {},
   "outputs": [],
   "source": [
    "def logisticRegression(x_a, y_a, alpha, iterations):\n",
    "    x_b=np.c_[np.ones((len(y_a), 1)), x_a]\n",
    "    y_b=np.array(y_a).reshape(1,len(y_a))\n",
    "    x_b=x_b.T\n",
    "    cost_list = []\n",
    "    m = np.size(x_b, axis=1)\n",
    "    W = np.random.random((1, x_b.shape[0]))\n",
    "    for i in range(iterations):\n",
    "        W = W - (alpha/m) * np.dot((sigmoid(np.dot(W,x_b)) - y_b), x_b.T)\n",
    "        cost_ = cost(x_b, y_b, W, m)\n",
    "        cost_list.append([i, cost_])\n",
    "    return W, cost_list"
   ]
  },
  {
   "cell_type": "code",
   "execution_count": 65,
   "metadata": {},
   "outputs": [
    {
     "name": "stdout",
     "output_type": "stream",
     "text": [
      "W0 = [[-5.56310931  1.13713376 -0.89450115  2.49671961  3.81937403]]\n"
     ]
    },
    {
     "data": {
      "image/png": "[encoded data removed]",
      "text/plain": [
       "<Figure size 432x288 with 1 Axes>"
      ]
     },
     "metadata": {},
     "output_type": "display_data"
    }
   ],
   "source": [
    "y0 = y_train.copy()\n",
    "y0[y_train==0]=1\n",
    "y0[y_train==1]=0\n",
    "y0[y_train==2]=0\n",
    "W0, cost_list = logisticRegression(x_train, y0, 0.1, 10000)\n",
    "\n",
    "print('W0 =', W0)\n",
    "for i in range(0, len(cost_list), 100):\n",
    "    plt.plot(cost_list[i][0], cost_list[i][1], 'ro')\n",
    "plt.show()\n"
   ]
  },
  {
   "cell_type": "code",
   "execution_count": 66,
   "metadata": {},
   "outputs": [
    {
     "name": "stdout",
     "output_type": "stream",
     "text": [
      "Accuracy for class 0: 0.9715189873417721\n"
     ]
    }
   ],
   "source": [
    "x_b=np.c_[np.ones((x_test.shape[0], 1)), x_test].T\n",
    "predictions = np.dot(W0,x_b )\n",
    "predictions[predictions < 0] = 0\n",
    "predictions[predictions >0] = 1\n",
    "y0_test = y_test.copy()\n",
    "y0_test[y_test==0]=1\n",
    "y0_test[y_test==1]=0\n",
    "y0_test[y_test==2]=0\n",
    "print(\"Accuracy for class 0:\", sum(y0_test == predictions[0]) / x_test.shape[0] )"
   ]
  },
  {
   "cell_type": "code",
   "execution_count": 67,
   "metadata": {},
   "outputs": [
    {
     "name": "stdout",
     "output_type": "stream",
     "text": [
      "W1 = [[-3.46607066 -0.93283357  0.58784206 -0.86735651  0.18243708]]\n"
     ]
    },
    {
     "data": {
      "image/png": "[encoded data removed]",
      "text/plain": [
       "<Figure size 432x288 with 1 Axes>"
      ]
     },
     "metadata": {},
     "output_type": "display_data"
    }
   ],
   "source": [
    "y1 = y_train.copy()\n",
    "y1[y_train==0]=0\n",
    "y1[y_train==1]=1\n",
    "y1[y_train==2]=0\n",
    "W1, cost_list = logisticRegression(x_train, y1, 0.1, 10000)\n",
    "\n",
    "print('W1 =', W1)\n",
    "for i in range(0, len(cost_list), 100):\n",
    "    plt.plot(cost_list[i][0], cost_list[i][1], 'ro')\n",
    "plt.show()\n"
   ]
  },
  {
   "cell_type": "code",
   "execution_count": 68,
   "metadata": {},
   "outputs": [
    {
     "name": "stdout",
     "output_type": "stream",
     "text": [
      "Accuracy for class 1: 0.8639240506329114\n"
     ]
    }
   ],
   "source": [
    "x_b=np.c_[np.ones((x_test.shape[0], 1)), x_test].T\n",
    "predictions = np.dot(W1,x_b )\n",
    "predictions[predictions < 0] = 0\n",
    "predictions[predictions >0] = 1\n",
    "y1_test = y_test.copy()\n",
    "y1_test[y_test==0]=0\n",
    "y1_test[y_test==1]=1\n",
    "y1_test[y_test==2]=0\n",
    "print(\"Accuracy for class 1:\", sum(y1_test == predictions[0]) / x_test.shape[0] )"
   ]
  },
  {
   "cell_type": "code",
   "execution_count": 69,
   "metadata": {},
   "outputs": [
    {
     "name": "stdout",
     "output_type": "stream",
     "text": [
      "W2 = [[-6.02487632  1.72971355 -0.52337814 -0.89356892 -2.14241957]]\n"
     ]
    },
    {
     "data": {
      "image/png": "[encoded data removed]",
      "text/plain": [
       "<Figure size 432x288 with 1 Axes>"
      ]
     },
     "metadata": {},
     "output_type": "display_data"
    }
   ],
   "source": [
    "y2 = y_train.copy()\n",
    "y2[y_train==0]=0\n",
    "y2[y_train==1]=0\n",
    "y2[y_train==2]=1\n",
    "W2, cost_list = logisticRegression(x_train, y2, 0.1, 10000)\n",
    "\n",
    "print('W2 =', W2)\n",
    "for i in range(0, len(cost_list), 100):\n",
    "    plt.plot(cost_list[i][0], cost_list[i][1], 'ro')\n",
    "plt.show()"
   ]
  },
  {
   "cell_type": "code",
   "execution_count": 70,
   "metadata": {},
   "outputs": [
    {
     "name": "stdout",
     "output_type": "stream",
     "text": [
      "Accuracy for class 2: 0.9810126582278481\n"
     ]
    }
   ],
   "source": [
    "x_b=np.c_[np.ones((x_test.shape[0], 1)), x_test].T\n",
    "predictions = np.dot(W2,x_b )\n",
    "predictions[predictions < 0] = 0\n",
    "predictions[predictions >0] = 1\n",
    "y2_test = y_test.copy()\n",
    "y2_test[y_test==0]=0\n",
    "y2_test[y_test==1]=0\n",
    "y2_test[y_test==2]=1\n",
    "print(\"Accuracy for class 2:\", sum(y2_test == predictions[0]) / x_test.shape[0] )"
   ]
  },
  {
   "cell_type": "code",
   "execution_count": 71,
   "metadata": {},
   "outputs": [],
   "source": [
    "def distance(W, x):\n",
    "    numerator = np.dot(W, x)\n",
    "    denominator = np.sqrt(np.dot(W, W.T))\n",
    "    return numerator/denominator\n"
   ]
  },
  {
   "cell_type": "code",
   "execution_count": 73,
   "metadata": {},
   "outputs": [
    {
     "name": "stdout",
     "output_type": "stream",
     "text": [
      "Accuracy in compare to the test data: 0.9620253164556962\n"
     ]
    }
   ],
   "source": [
    "\n",
    "X_b=np.c_[np.ones((x_test.shape[0], 1)), x_test].T\n",
    "\n",
    "X_predict0 = np.dot(W0, X_b)\n",
    "X_predict1 = np.dot(W1, X_b)\n",
    "X_predict2 = np.dot(W2, X_b)\n",
    "X_predict0[X_predict0 < 0] = 0\n",
    "X_predict0[X_predict0 >0] = 1\n",
    "X_predict1[X_predict1 < 0] = 0\n",
    "X_predict1[X_predict1 >0] = 1\n",
    "X_predict2[X_predict2 < 0] = 0\n",
    "X_predict2[X_predict2 >0] = 1\n",
    "p=np.r_[X_predict0,X_predict1,X_predict2]\n",
    "\n",
    "dist=np.r_[distance(W0, X_b),distance(W1, X_b),distance(W2, X_b)]\n",
    "prediction=np.argmax(dist,0)\n",
    "\n",
    "print(\"Accuracy in compare to the test data:\", sum(y_test == prediction) / x_test.shape[0] )"
   ]
  }
 ],
 "metadata": {
  "kernelspec": {
   "display_name": "Python 3",
   "language": "python",
   "name": "python3"
  },
  "language_info": {
   "codemirror_mode": {
    "name": "ipython",
    "version": 3
   },
   "file_extension": ".py",
   "mimetype": "text/x-python",
   "name": "python",
   "nbconvert_exporter": "python",
   "pygments_lexer": "ipython3",
   "version": "3.6.5"
  }
 },
 "nbformat": 4,
 "nbformat_minor": 2
}
